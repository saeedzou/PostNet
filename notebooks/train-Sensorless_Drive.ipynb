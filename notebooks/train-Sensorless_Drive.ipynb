{
 "cells": [
  {
   "cell_type": "code",
   "execution_count": null,
   "metadata": {},
   "outputs": [],
   "source": [
    "!git clone https://github.com/saeedzou/PostNet.git\n",
    "!pip -q install pyro-ppl\n",
    "\n",
    "import os\n",
    "print(\"Current Working Directory \" , os.getcwd())\n",
    "import sys\n",
    "sys.path.append(\"PostNet\") # Add directory containing src/data to path"
   ]
  },
  {
   "cell_type": "code",
   "execution_count": null,
   "metadata": {},
   "outputs": [],
   "source": [
    "import torch\n",
    "import numpy as np\n",
    "import pandas as pd\n",
    "from matplotlib import pyplot as plt\n",
    "import matplotlib\n",
    "from torch import nn\n",
    "from matplotlib import pyplot as plt\n",
    "from src.posterior_networks.run import run"
   ]
  },
  {
   "cell_type": "markdown",
   "metadata": {},
   "source": [
    "## Parameters"
   ]
  },
  {
   "cell_type": "code",
   "execution_count": 4,
   "metadata": {},
   "outputs": [],
   "source": [
    "# Dataset parameters\n",
    "seed_dataset=123\n",
    "directory_dataset='PostNet/data'\n",
    "dataset_name='sensorless_drive_scale_10_11_missing'\n",
    "ood_dataset_names=['sensorless_drive_scale_10_11_only']\n",
    "unscaled_ood=False\n",
    "split=[.6, .8]\n",
    "transform_min=0.\n",
    "transform_max=1.\n",
    "\n",
    "# Architecture parameters\n",
    "seed_model=123\n",
    "directory_model='PostNet/saved_models'\n",
    "architecture='linear'\n",
    "input_dims=[48]\n",
    "output_dim=9\n",
    "hidden_dims=[64, 64, 64]\n",
    "kernel_dim=None\n",
    "latent_dim=6\n",
    "no_density=False\n",
    "density_type='radial_flow'\n",
    "n_density=6\n",
    "k_lipschitz=None\n",
    "budget_function='id'\n",
    "\n",
    "# Training parameters\n",
    "directory_results='PostNet/saved_results'\n",
    "max_epochs=200\n",
    "patience=10\n",
    "frequency=2\n",
    "batch_size=64\n",
    "lr=3e-5\n",
    "loss='UCE'\n",
    "training_mode='joint'\n",
    "regr=1e-5"
   ]
  },
  {
   "cell_type": "markdown",
   "metadata": {},
   "source": [
    "## Training"
   ]
  },
  {
   "cell_type": "code",
   "execution_count": 5,
   "metadata": {
    "scrolled": false
   },
   "outputs": [
    {
     "name": "stderr",
     "output_type": "stream",
     "text": [
      "/nfs/staff-hdd/charpent/anaconda3/envs/posterior-network/lib/python3.6/site-packages/torch/autograd/anomaly_mode.py:70: UserWarning: Anomaly Detection has been enabled. This mode will increase the runtime and should only be enabled for debugging.\n",
      "  warnings.warn('Anomaly Detection has been enabled. '\n"
     ]
    },
    {
     "name": "stdout",
     "output_type": "stream",
     "text": [
      "Epoch 0 -> Val loss 2.227 | Val Acc.: 0.171\n",
      "Model saved\n",
      "Epoch 2 -> Val loss 1.977 | Val Acc.: 0.318\n",
      "Model saved\n",
      "Epoch 4 -> Val loss 1.756 | Val Acc.: 0.639\n",
      "Model saved\n",
      "Epoch 6 -> Val loss 1.578 | Val Acc.: 0.668\n",
      "Model saved\n",
      "Epoch 8 -> Val loss 1.42 | Val Acc.: 0.687\n",
      "Model saved\n",
      "Epoch 10 -> Val loss 1.282 | Val Acc.: 0.698\n",
      "Model saved\n",
      "Epoch 12 -> Val loss 1.178 | Val Acc.: 0.725\n",
      "Model saved\n",
      "Epoch 14 -> Val loss 1.011 | Val Acc.: 0.809\n",
      "Model saved\n",
      "Epoch 16 -> Val loss 0.901 | Val Acc.: 0.829\n",
      "Model saved\n",
      "Epoch 18 -> Val loss 0.792 | Val Acc.: 0.864\n",
      "Model saved\n",
      "Epoch 20 -> Val loss 0.722 | Val Acc.: 0.876\n",
      "Model saved\n",
      "Epoch 22 -> Val loss 0.643 | Val Acc.: 0.872\n",
      "Model saved\n",
      "Epoch 24 -> Val loss 0.555 | Val Acc.: 0.893\n",
      "Model saved\n",
      "Epoch 26 -> Val loss 0.496 | Val Acc.: 0.895\n",
      "Model saved\n",
      "Epoch 28 -> Val loss 0.44 | Val Acc.: 0.905\n",
      "Model saved\n",
      "Epoch 30 -> Val loss 0.467 | Val Acc.: 0.88\n",
      "Epoch 32 -> Val loss 0.423 | Val Acc.: 0.894\n",
      "Model saved\n",
      "Epoch 34 -> Val loss 0.41 | Val Acc.: 0.889\n",
      "Model saved\n",
      "Epoch 36 -> Val loss 0.329 | Val Acc.: 0.923\n",
      "Model saved\n",
      "Epoch 38 -> Val loss 0.314 | Val Acc.: 0.924\n",
      "Model saved\n",
      "Epoch 40 -> Val loss 0.289 | Val Acc.: 0.928\n",
      "Model saved\n",
      "Epoch 42 -> Val loss 0.286 | Val Acc.: 0.927\n",
      "Model saved\n",
      "Epoch 44 -> Val loss 0.345 | Val Acc.: 0.892\n",
      "Epoch 46 -> Val loss 0.274 | Val Acc.: 0.926\n",
      "Model saved\n",
      "Epoch 48 -> Val loss 0.262 | Val Acc.: 0.928\n",
      "Model saved\n",
      "Epoch 50 -> Val loss 0.245 | Val Acc.: 0.936\n",
      "Model saved\n",
      "Epoch 52 -> Val loss 0.242 | Val Acc.: 0.94\n",
      "Model saved\n",
      "Epoch 54 -> Val loss 0.354 | Val Acc.: 0.879\n",
      "Epoch 56 -> Val loss 0.224 | Val Acc.: 0.942\n",
      "Model saved\n",
      "Epoch 58 -> Val loss 0.254 | Val Acc.: 0.922\n",
      "Epoch 60 -> Val loss 0.279 | Val Acc.: 0.913\n",
      "Epoch 62 -> Val loss 0.198 | Val Acc.: 0.947\n",
      "Model saved\n",
      "Epoch 64 -> Val loss 0.202 | Val Acc.: 0.942\n",
      "Epoch 66 -> Val loss 0.191 | Val Acc.: 0.945\n",
      "Model saved\n",
      "Epoch 68 -> Val loss 0.209 | Val Acc.: 0.94\n",
      "Epoch 70 -> Val loss 0.19 | Val Acc.: 0.948\n",
      "Model saved\n",
      "Epoch 72 -> Val loss 0.191 | Val Acc.: 0.947\n",
      "Epoch 74 -> Val loss 0.196 | Val Acc.: 0.942\n",
      "Epoch 76 -> Val loss 0.233 | Val Acc.: 0.93\n",
      "Epoch 78 -> Val loss 0.187 | Val Acc.: 0.946\n",
      "Model saved\n",
      "Epoch 80 -> Val loss 0.171 | Val Acc.: 0.952\n",
      "Model saved\n",
      "Epoch 82 -> Val loss 0.168 | Val Acc.: 0.952\n",
      "Model saved\n",
      "Epoch 84 -> Val loss 0.19 | Val Acc.: 0.938\n",
      "Epoch 86 -> Val loss 0.189 | Val Acc.: 0.94\n",
      "Epoch 88 -> Val loss 0.196 | Val Acc.: 0.937\n",
      "Epoch 90 -> Val loss 0.168 | Val Acc.: 0.949\n",
      "Model saved\n",
      "Epoch 92 -> Val loss 0.17 | Val Acc.: 0.95\n",
      "Epoch 94 -> Val loss 0.15 | Val Acc.: 0.956\n",
      "Model saved\n",
      "Epoch 96 -> Val loss 0.232 | Val Acc.: 0.917\n",
      "Epoch 98 -> Val loss 0.164 | Val Acc.: 0.952\n",
      "Epoch 100 -> Val loss 0.15 | Val Acc.: 0.957\n",
      "Model saved\n",
      "Epoch 102 -> Val loss 0.139 | Val Acc.: 0.96\n",
      "Model saved\n",
      "Epoch 104 -> Val loss 0.17 | Val Acc.: 0.943\n",
      "Epoch 106 -> Val loss 0.15 | Val Acc.: 0.958\n",
      "Epoch 108 -> Val loss 0.157 | Val Acc.: 0.951\n",
      "Epoch 110 -> Val loss 0.147 | Val Acc.: 0.954\n",
      "Epoch 112 -> Val loss 0.133 | Val Acc.: 0.963\n",
      "Model saved\n",
      "Epoch 114 -> Val loss 0.131 | Val Acc.: 0.959\n",
      "Model saved\n",
      "Epoch 116 -> Val loss 0.132 | Val Acc.: 0.96\n",
      "Epoch 118 -> Val loss 0.135 | Val Acc.: 0.961\n",
      "Epoch 120 -> Val loss 0.207 | Val Acc.: 0.932\n",
      "Epoch 122 -> Val loss 0.121 | Val Acc.: 0.965\n",
      "Model saved\n",
      "Epoch 124 -> Val loss 0.13 | Val Acc.: 0.964\n",
      "Epoch 126 -> Val loss 0.129 | Val Acc.: 0.963\n",
      "Epoch 128 -> Val loss 0.126 | Val Acc.: 0.962\n",
      "Epoch 130 -> Val loss 0.189 | Val Acc.: 0.937\n",
      "Epoch 132 -> Val loss 0.123 | Val Acc.: 0.966\n",
      "Epoch 134 -> Val loss 0.126 | Val Acc.: 0.962\n",
      "Epoch 136 -> Val loss 0.118 | Val Acc.: 0.965\n",
      "Model saved\n",
      "Epoch 138 -> Val loss 0.12 | Val Acc.: 0.964\n",
      "Epoch 140 -> Val loss 0.239 | Val Acc.: 0.918\n",
      "Epoch 142 -> Val loss 0.109 | Val Acc.: 0.969\n",
      "Model saved\n",
      "Epoch 144 -> Val loss 0.11 | Val Acc.: 0.969\n",
      "Epoch 146 -> Val loss 0.153 | Val Acc.: 0.951\n",
      "Epoch 148 -> Val loss 0.168 | Val Acc.: 0.944\n",
      "Epoch 150 -> Val loss 0.158 | Val Acc.: 0.949\n",
      "Epoch 152 -> Val loss 0.102 | Val Acc.: 0.972\n",
      "Model saved\n",
      "Epoch 154 -> Val loss 0.114 | Val Acc.: 0.964\n",
      "Epoch 156 -> Val loss 0.104 | Val Acc.: 0.971\n",
      "Epoch 158 -> Val loss 0.103 | Val Acc.: 0.971\n",
      "Epoch 160 -> Val loss 0.108 | Val Acc.: 0.967\n",
      "Epoch 162 -> Val loss 0.115 | Val Acc.: 0.965\n",
      "Epoch 164 -> Val loss 0.106 | Val Acc.: 0.968\n",
      "Epoch 166 -> Val loss 0.103 | Val Acc.: 0.969\n",
      "Epoch 168 -> Val loss 0.103 | Val Acc.: 0.969\n",
      "Epoch 170 -> Val loss 0.144 | Val Acc.: 0.957\n",
      "Early Stopping.\n"
     ]
    }
   ],
   "source": [
    "results_metrics = run(# Dataset parameters\n",
    "                        seed_dataset,  # Seed to shuffle dataset. int\n",
    "                        directory_dataset,  # Path to dataset. string\n",
    "                        dataset_name,  # Dataset name. string\n",
    "                        ood_dataset_names,  # OOD dataset names.  list of strings\n",
    "                        unscaled_ood,  # If true consider also unscaled versions of ood datasets. boolean\n",
    "                        split,  # Split for train/val/test sets. list of floats\n",
    "                        transform_min,  # Minimum value for rescaling input data. float\n",
    "                        transform_max,  # Maximum value for rescaling input data. float\n",
    "\n",
    "                        # Architecture parameters\n",
    "                        seed_model,  # Seed to init model. int\n",
    "                        directory_model,  # Path to save model. string\n",
    "                        architecture,  # Encoder architecture name. string\n",
    "                        input_dims,  # Input dimension. List of ints\n",
    "                        output_dim,  # Output dimension. int\n",
    "                        hidden_dims,  # Hidden dimensions. list of ints\n",
    "                        kernel_dim,  # Input dimension. int\n",
    "                        latent_dim,  # Latent dimension. int\n",
    "                        no_density,  # Use density estimation or not. boolean\n",
    "                        density_type,  # Density type. string\n",
    "                        n_density,  # Number of density components. int\n",
    "                        k_lipschitz,  # Lipschitz constant. float or None (if no lipschitz)\n",
    "                        budget_function,  # Budget function name applied on class count. name\n",
    "\n",
    "                        # Training parameters\n",
    "                        directory_results,  # Path to save resutls. string\n",
    "                        max_epochs,  # Maximum number of epochs for training\n",
    "                        patience,  # Patience for early stopping. int\n",
    "                        frequency,  # Frequency for early stopping test. int\n",
    "                        batch_size,  # Batch size. int\n",
    "                        lr,  # Learning rate. float\n",
    "                        loss,  # Loss name. string\n",
    "                        training_mode,  # 'joint' or 'sequential' training. string\n",
    "                        regr)"
   ]
  },
  {
   "cell_type": "code",
   "execution_count": 6,
   "metadata": {},
   "outputs": [
    {
     "name": "stdout",
     "output_type": "stream",
     "text": [
      "../saved_models/model-dpn-123-sensorless_drive_scale_10_11_missing-[0.6, 0.8]-0.0-1.0-123-linear-[48]-9-[64, 64, 64]-None-6-False-radial_flow-6-None-id-200-10-2-64-3e-05-UCE-joint-1e-05\n",
      "../saved_results/results-dpn-123-sensorless_drive_scale_10_11_missing-[0.6, 0.8]-0.0-1.0-123-linear-[48]-9-[64, 64, 64]-None-6-False-radial_flow-6-None-id-200-10-2-64-3e-05-UCE-joint-1e-05\n"
     ]
    }
   ],
   "source": [
    "print(results_metrics['model_path'])\n",
    "print(results_metrics['result_path'])"
   ]
  },
  {
   "cell_type": "markdown",
   "metadata": {},
   "source": [
    "## Evaluation"
   ]
  },
  {
   "cell_type": "code",
   "execution_count": 7,
   "metadata": {},
   "outputs": [
    {
     "name": "stdout",
     "output_type": "stream",
     "text": [
      "accuracy 0.9736814621409922\n",
      "confidence_aleatoric 0.9986029600691971\n",
      "confidence_epistemic 0.9944383656899327\n",
      "brier_score 0.08215291060123257\n",
      "anomaly_detection_aleatoric_sensorless_drive_scale_10_11_only 0.7918268390875141\n",
      "anomaly_detection_epistemic_sensorless_drive_scale_10_11_only 0.9315497221054451\n"
     ]
    }
   ],
   "source": [
    "no_show = ['model_path', 'result_path', 'train_losses', 'val_losses', 'test_losses', 'train_accuracies', 'val_accuracies', 'test_accuracies', 'fail_trace']\n",
    "for k, v in results_metrics.items():\n",
    "    if k not in no_show:\n",
    "        print(k, v)"
   ]
  }
 ],
 "metadata": {
  "kernelspec": {
   "display_name": "Python 3",
   "language": "python",
   "name": "python3"
  },
  "language_info": {
   "codemirror_mode": {
    "name": "ipython",
    "version": 3
   },
   "file_extension": ".py",
   "mimetype": "text/x-python",
   "name": "python",
   "nbconvert_exporter": "python",
   "pygments_lexer": "ipython3",
   "version": "3.6.10"
  }
 },
 "nbformat": 4,
 "nbformat_minor": 2
}

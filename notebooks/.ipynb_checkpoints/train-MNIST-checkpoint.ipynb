{
 "cells": [
  {
   "cell_type": "code",
   "execution_count": 1,
   "metadata": {},
   "outputs": [
    {
     "name": "stdout",
     "output_type": "stream",
     "text": [
      "Current Working Directory  /nfs/homedirs/charpent/uncertainty-robustness/docs/neurips_appendix_submission/notebooks\n"
     ]
    }
   ],
   "source": [
    "import os\n",
    "#os.chdir('..')\n",
    "print(\"Current Working Directory \" , os.getcwd())\n",
    "import sys\n",
    "sys.path.append(\"../\") # Add directory containing src/data to path"
   ]
  },
  {
   "cell_type": "code",
   "execution_count": 2,
   "metadata": {},
   "outputs": [],
   "source": [
    "import torch\n",
    "import numpy as np\n",
    "import pandas as pd\n",
    "from matplotlib import pyplot as plt\n",
    "import matplotlib\n",
    "from torch import nn\n",
    "from matplotlib import pyplot as plt"
   ]
  },
  {
   "cell_type": "code",
   "execution_count": 3,
   "metadata": {},
   "outputs": [],
   "source": [
    "from src.posterior_networks.run import run"
   ]
  },
  {
   "cell_type": "markdown",
   "metadata": {},
   "source": [
    "## Parameters"
   ]
  },
  {
   "cell_type": "code",
   "execution_count": 4,
   "metadata": {},
   "outputs": [],
   "source": [
    "# Dataset parameters\n",
    "seed_dataset=123\n",
    "directory_dataset='../data'\n",
    "dataset_name='MNIST'\n",
    "ood_dataset_names=['KMNIST', 'FashionMNIST']\n",
    "unscaled_ood=True\n",
    "split=[.6, .8]\n",
    "transform_min=0.\n",
    "transform_max=255.\n",
    "\n",
    "# Architecture parameters\n",
    "seed_model=123\n",
    "directory_model='../saved_models'\n",
    "architecture='conv'\n",
    "input_dims=[28, 28, 1]\n",
    "output_dim=10\n",
    "hidden_dims=[64, 64, 64]\n",
    "kernel_dim=5\n",
    "latent_dim=6\n",
    "no_density=False\n",
    "density_type='radial_flow'\n",
    "n_density=6\n",
    "k_lipschitz=None\n",
    "budget_function='id'\n",
    "\n",
    "# Training parameters\n",
    "directory_results='../saved_results'\n",
    "max_epochs=200\n",
    "patience=10\n",
    "frequency=2\n",
    "batch_size=64\n",
    "lr=5e-5\n",
    "loss='UCE'\n",
    "training_mode='joint'\n",
    "regr=1e-5"
   ]
  },
  {
   "cell_type": "markdown",
   "metadata": {},
   "source": [
    "## Training"
   ]
  },
  {
   "cell_type": "code",
   "execution_count": null,
   "metadata": {
    "scrolled": false
   },
   "outputs": [
    {
     "name": "stderr",
     "output_type": "stream",
     "text": [
      "/nfs/staff-hdd/charpent/anaconda3/envs/posterior-network/lib/python3.6/site-packages/torch/autograd/anomaly_mode.py:70: UserWarning: Anomaly Detection has been enabled. This mode will increase the runtime and should only be enabled for debugging.\n",
      "  warnings.warn('Anomaly Detection has been enabled. '\n"
     ]
    },
    {
     "name": "stdout",
     "output_type": "stream",
     "text": [
      "Epoch 0 -> Val loss 1.794 | Val Acc.: 0.598\n",
      "Model saved\n",
      "Epoch 2 -> Val loss 1.458 | Val Acc.: 0.583\n",
      "Model saved\n",
      "Epoch 4 -> Val loss 1.062 | Val Acc.: 0.821\n",
      "Model saved\n",
      "Epoch 6 -> Val loss 0.74 | Val Acc.: 0.876\n",
      "Model saved\n",
      "Epoch 8 -> Val loss 0.578 | Val Acc.: 0.827\n",
      "Model saved\n",
      "Epoch 10 -> Val loss 0.361 | Val Acc.: 0.974\n",
      "Model saved\n",
      "Epoch 12 -> Val loss 0.199 | Val Acc.: 0.986\n",
      "Model saved\n",
      "Epoch 14 -> Val loss 0.115 | Val Acc.: 0.989\n",
      "Model saved\n",
      "Epoch 16 -> Val loss 0.084 | Val Acc.: 0.99\n",
      "Model saved\n",
      "Epoch 18 -> Val loss 0.061 | Val Acc.: 0.99\n",
      "Model saved\n",
      "Epoch 20 -> Val loss 0.049 | Val Acc.: 0.991\n",
      "Model saved\n",
      "Epoch 22 -> Val loss 0.057 | Val Acc.: 0.987\n",
      "Epoch 24 -> Val loss 0.041 | Val Acc.: 0.991\n",
      "Model saved\n",
      "Epoch 26 -> Val loss 0.037 | Val Acc.: 0.991\n",
      "Model saved\n",
      "Epoch 28 -> Val loss 0.041 | Val Acc.: 0.99\n",
      "Epoch 30 -> Val loss 0.038 | Val Acc.: 0.991\n",
      "Epoch 32 -> Val loss 0.04 | Val Acc.: 0.991\n",
      "Epoch 34 -> Val loss 0.062 | Val Acc.: 0.986\n",
      "Epoch 36 -> Val loss 0.037 | Val Acc.: 0.992\n",
      "Epoch 38 -> Val loss 0.038 | Val Acc.: 0.992\n",
      "Epoch 40 -> Val loss 0.038 | Val Acc.: 0.992\n",
      "Epoch 42 -> Val loss 0.08 | Val Acc.: 0.982\n",
      "Epoch 44 -> Val loss 0.039 | Val Acc.: 0.992\n",
      "Early Stopping.\n"
     ]
    }
   ],
   "source": [
    "results_metrics = run(# Dataset parameters\n",
    "                        seed_dataset,  # Seed to shuffle dataset. int\n",
    "                        directory_dataset,  # Path to dataset. string\n",
    "                        dataset_name,  # Dataset name. string\n",
    "                        ood_dataset_names,  # OOD dataset names.  list of strings\n",
    "                        unscaled_ood,  # If true consider also unscaled versions of ood datasets. boolean\n",
    "                        split,  # Split for train/val/test sets. list of floats\n",
    "                        transform_min,  # Minimum value for rescaling input data. float\n",
    "                        transform_max,  # Maximum value for rescaling input data. float\n",
    "\n",
    "                        # Architecture parameters\n",
    "                        seed_model,  # Seed to init model. int\n",
    "                        directory_model,  # Path to save model. string\n",
    "                        architecture,  # Encoder architecture name. string\n",
    "                        input_dims,  # Input dimension. List of ints\n",
    "                        output_dim,  # Output dimension. int\n",
    "                        hidden_dims,  # Hidden dimensions. list of ints\n",
    "                        kernel_dim,  # Input dimension. int\n",
    "                        latent_dim,  # Latent dimension. int\n",
    "                        no_density,  # Use density estimation or not. boolean\n",
    "                        density_type,  # Density type. string\n",
    "                        n_density,  # Number of density components. int\n",
    "                        k_lipschitz,  # Lipschitz constant. float or None (if no lipschitz)\n",
    "                        budget_function,  # Budget function name applied on class count. name\n",
    "\n",
    "                        # Training parameters\n",
    "                        directory_results,  # Path to save resutls. string\n",
    "                        max_epochs,  # Maximum number of epochs for training\n",
    "                        patience,  # Patience for early stopping. int\n",
    "                        frequency,  # Frequency for early stopping test. int\n",
    "                        batch_size,  # Batch size. int\n",
    "                        lr,  # Learning rate. float\n",
    "                        loss,  # Loss name. string\n",
    "                        training_mode,  # 'joint' or 'sequential' training. string\n",
    "                        regr)"
   ]
  },
  {
   "cell_type": "code",
   "execution_count": 8,
   "metadata": {},
   "outputs": [
    {
     "name": "stdout",
     "output_type": "stream",
     "text": [
      "../saved_models/model-dpn-123-MNIST-[0.6, 0.8]-0.0-255.0-123-conv-[28, 28, 1]-10-[64, 64, 64]-5-6-False-radial_flow-6-None-id-200-10-2-64-5e-05-UCE-joint-1e-05\n",
      "../saved_results/results-dpn-123-MNIST-[0.6, 0.8]-0.0-255.0-123-conv-[28, 28, 1]-10-[64, 64, 64]-5-6-False-radial_flow-6-None-id-200-10-2-64-5e-05-UCE-joint-1e-05\n"
     ]
    }
   ],
   "source": [
    "print(results_metrics['model_path'])\n",
    "print(results_metrics['result_path'])"
   ]
  },
  {
   "cell_type": "markdown",
   "metadata": {},
   "source": [
    "## Evaluation"
   ]
  },
  {
   "cell_type": "code",
   "execution_count": 9,
   "metadata": {},
   "outputs": [
    {
     "name": "stdout",
     "output_type": "stream",
     "text": [
      "accuracy 0.9913571428571428\n",
      "confidence_aleatoric 0.9997028258574213\n",
      "confidence_epistemic 0.9995304922975036\n",
      "brier_score 0.016601465306141944\n",
      "anomaly_detection_aleatoric_KMNIST 0.9221786276707212\n",
      "anomaly_detection_epistemic_KMNIST 0.8878875497066507\n",
      "anomaly_detection_aleatoric_KMNIST_unscaled 1.0\n",
      "anomaly_detection_epistemic_KMNIST_unscaled 1.0\n",
      "anomaly_detection_aleatoric_FashionMNIST 0.9700295883683445\n",
      "anomaly_detection_epistemic_FashionMNIST 0.9457842589006564\n",
      "anomaly_detection_aleatoric_FashionMNIST_unscaled 1.0\n",
      "anomaly_detection_epistemic_FashionMNIST_unscaled 1.0\n"
     ]
    }
   ],
   "source": [
    "no_show = ['model_path', 'result_path', 'train_losses', 'val_losses', 'test_losses', 'train_accuracies', 'val_accuracies', 'test_accuracies', 'fail_trace']\n",
    "for k, v in results_metrics.items():\n",
    "    if k not in no_show:\n",
    "        print(k, v)"
   ]
  },
  {
   "cell_type": "code",
   "execution_count": null,
   "metadata": {},
   "outputs": [],
   "source": []
  }
 ],
 "metadata": {
  "kernelspec": {
   "display_name": "Python 3",
   "language": "python",
   "name": "python3"
  },
  "language_info": {
   "codemirror_mode": {
    "name": "ipython",
    "version": 3
   },
   "file_extension": ".py",
   "mimetype": "text/x-python",
   "name": "python",
   "nbconvert_exporter": "python",
   "pygments_lexer": "ipython3",
   "version": "3.6.10"
  }
 },
 "nbformat": 4,
 "nbformat_minor": 2
}
